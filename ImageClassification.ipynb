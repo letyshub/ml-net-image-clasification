{
 "cells": [
  {
   "cell_type": "markdown",
   "metadata": {},
   "source": [
    "# Klasyfikacja obrazów zawierających klucze oczkowe, śrubokręty i młotki"
   ]
  },
  {
   "cell_type": "markdown",
   "metadata": {},
   "source": [
    "Dodajemy wymagane paczki nuget"
   ]
  },
  {
   "cell_type": "code",
   "execution_count": null,
   "metadata": {
    "dotnet_interactive": {
     "language": "csharp"
    }
   },
   "outputs": [
    {
     "data": {
      "text/html": [
       "<div><div></div><div></div><div><strong>Installed Packages</strong><ul><li><span>Microsoft.Data.Analysis, 0.19.0</span></li><li><span>Microsoft.ML, 1.7.0</span></li><li><span>Microsoft.ML.ImageAnalytics, 1.7.0</span></li><li><span>Microsoft.ML.OnnxTransformer, 1.7.0</span></li><li><span>Microsoft.ML.TensorFlow, 1.7.0</span></li><li><span>SciSharp.TensorFlow.Redist, 2.7.0</span></li></ul></div></div>"
      ]
     },
     "metadata": {},
     "output_type": "display_data"
    }
   ],
   "source": [
    "#r \"nuget: Microsoft.ML, 1.7.0\"\n",
    "#r \"nuget: Microsoft.ML.TensorFlow, 1.7.0\"\n",
    "#r \"nuget: Microsoft.ML.ImageAnalytics, 1.7.0\"\n",
    "#r \"nuget: Microsoft.ML.OnnxTransformer, 1.7.0\"\n",
    "#r \"nuget: Microsoft.ML.OnnxTransformer, 1.7.0\"\n",
    "#r \"nuget: Microsoft.Data.Analysis, 0.19.0\"\n",
    "#r \"nuget: SciSharp.TensorFlow.Redist, 2.7.0\""
   ]
  },
  {
   "cell_type": "code",
   "execution_count": null,
   "metadata": {
    "dotnet_interactive": {
     "language": "csharp"
    }
   },
   "outputs": [],
   "source": [
    "using Microsoft.ML;\n",
    "using Microsoft.ML.Data;\n",
    "using Microsoft.ML.Transforms;\n",
    "using System.IO;"
   ]
  },
  {
   "cell_type": "markdown",
   "metadata": {},
   "source": [
    "Teraz dodajmy ścieżki z obrazkami i konfiguracją dla naszego projektu. "
   ]
  },
  {
   "cell_type": "code",
   "execution_count": null,
   "metadata": {
    "dotnet_interactive": {
     "language": "csharp"
    }
   },
   "outputs": [],
   "source": [
    "// Główny katalog z danymi używanymi w przykładzie\n",
    "var _assetsPath = Path.Combine(Environment.CurrentDirectory, \"assets\");\n",
    "\n",
    "// Katalog z obrazkami jakie będą używane w naszym przykładzie (do trenowania modelu i do docelowej klasyfikacji)\n",
    "var _imagesFolder = Path.Combine(_assetsPath, \"images\");\n",
    "\n",
    "// Katalog z obrazkami do testowania\n",
    "var _testFolder = Path.Combine(_imagesFolder, \"test\");\n",
    "\n",
    "// Plik z oznaczeniami obrazków (czyli czym jaki obrazek jest). Użyjemy go do trenowania modelu\n",
    "var _trainTagsTsv = Path.Combine(_imagesFolder, \"tags.tsv\");\n",
    "\n",
    "// Plik z oznaczeniami obrazków, którego użyjemy do testowania naszego modelu\n",
    "var _testTagsTsv = Path.Combine(_imagesFolder, \"test-tags.tsv\");\n",
    "\n",
    "// Uzyjemy TensorFlow Inception. Jest to model deep learning, który jest wytrenowany na ImageNet dataset.\n",
    "//\n",
    "// Poniżej link gdzie znajdziesz więcej informacji o inception\n",
    "// https://towardsdatascience.com/a-simple-guide-to-the-versions-of-the-inception-network-7fc52b863202\n",
    "var _inceptionTensorFlowModel = Path.Combine(_assetsPath, \"inception\", \"tensorflow_inception_graph.pb\");"
   ]
  },
  {
   "cell_type": "markdown",
   "metadata": {},
   "source": [
    "`ImageData` będzie klasą, która służy do tagowania obrazeków (klucz, młotek, śrubokręt). Myślę,że nazwy property są wystarczająco jasne."
   ]
  },
  {
   "cell_type": "code",
   "execution_count": null,
   "metadata": {
    "dotnet_interactive": {
     "language": "csharp"
    }
   },
   "outputs": [],
   "source": [
    "public class ImageData\n",
    "{\n",
    "    [LoadColumn(0)]\n",
    "    public string Path;\n",
    "\n",
    "    [LoadColumn(1)]\n",
    "    public string Label;\n",
    "}"
   ]
  },
  {
   "cell_type": "markdown",
   "metadata": {},
   "source": [
    "`ImagePrediction` posłuży nam do określenia tego czym dany obrazek jest."
   ]
  },
  {
   "cell_type": "code",
   "execution_count": null,
   "metadata": {
    "dotnet_interactive": {
     "language": "csharp"
    }
   },
   "outputs": [],
   "source": [
    "public class ImagePrediction : ImageData\n",
    "{\n",
    "    public float[] Score;\n",
    "\n",
    "    public string PredictedLabelValue;\n",
    "}"
   ]
  },
  {
   "cell_type": "markdown",
   "metadata": {},
   "source": [
    "Zaczynamy :-)"
   ]
  },
  {
   "cell_type": "code",
   "execution_count": null,
   "metadata": {
    "dotnet_interactive": {
     "language": "csharp"
    }
   },
   "outputs": [],
   "source": [
    "var mlContext = new MLContext();"
   ]
  },
  {
   "cell_type": "markdown",
   "metadata": {},
   "source": [
    "To są ustawienia modelu. Zostawiam takie jakie były użyte w [tutorialu](https://docs.microsoft.com/en-us/dotnet/machine-learning/tutorials/image-classification)."
   ]
  },
  {
   "cell_type": "code",
   "execution_count": null,
   "metadata": {
    "dotnet_interactive": {
     "language": "csharp"
    }
   },
   "outputs": [],
   "source": [
    "struct InceptionSettings\n",
    "{\n",
    "    public const int ImageHeight = 224;\n",
    "    public const int ImageWidth = 224;\n",
    "    public const float Mean = 117;\n",
    "    public const float Scale = 1;\n",
    "    public const bool ChannelsLast = true;\n",
    "}"
   ]
  },
  {
   "cell_type": "markdown",
   "metadata": {},
   "source": [
    "Ta funkcja posłuży nam do sklasyfikowania obrazka"
   ]
  },
  {
   "cell_type": "code",
   "execution_count": null,
   "metadata": {
    "dotnet_interactive": {
     "language": "csharp"
    }
   },
   "outputs": [],
   "source": [
    "void ClassifyImage(MLContext mlContext, ITransformer model, string imagePath)\n",
    "{\n",
    "    var imageData = new ImageData()\n",
    "    {\n",
    "        Path = imagePath\n",
    "    };\n",
    "\n",
    "    var predictor = mlContext.Model.CreatePredictionEngine<ImageData, ImagePrediction>(model);\n",
    "    var prediction = predictor.Predict(imageData);\n",
    "    Console.WriteLine($\"[{Path.GetFileName(imagePath)}] jest [{prediction.PredictedLabelValue}] z wynikiem [{prediction.Score.Max()}] \");\n",
    "}"
   ]
  },
  {
   "cell_type": "markdown",
   "metadata": {},
   "source": [
    "Ta funkcja posłuży nam do utworzenia plików `tags.tsv` oraz `test-tags.tsv`."
   ]
  },
  {
   "cell_type": "code",
   "execution_count": null,
   "metadata": {
    "dotnet_interactive": {
     "language": "csharp"
    }
   },
   "outputs": [],
   "source": [
    "void CreateTsvFiles()\n",
    "{\n",
    "    File.Delete(_trainTagsTsv);\n",
    "    File.Delete(_testTagsTsv);\n",
    "\n",
    "    using var tsvFile = new StreamWriter(_trainTagsTsv);\n",
    "    using var testTsvFile = new StreamWriter(_testTagsTsv);\n",
    "\n",
    "    foreach (var directory in Directory.GetDirectories(_imagesFolder))\n",
    "    {\n",
    "        var directoryName = new DirectoryInfo(directory).Name;\n",
    "\n",
    "        if (string.Equals(directoryName, \"test\"))\n",
    "        {\n",
    "            continue;\n",
    "        }\n",
    "        \n",
    "        foreach (var file in Directory.GetFiles(directory))\n",
    "        {\n",
    "            var filename = Path.GetFileName(file);\n",
    "            tsvFile.WriteLine($\"{filename}\\t{directoryName}\");\n",
    "            testTsvFile.WriteLine($\"{filename}\\t{directoryName}\");\n",
    "            File.Copy(file, $\"{_imagesWorkingFolder}\\\\{filename}\", true);\n",
    "        }\n",
    "    }\n",
    "}"
   ]
  },
  {
   "cell_type": "markdown",
   "metadata": {},
   "source": [
    "Ta funkcjia posłuży nam do utworzenia modelu"
   ]
  },
  {
   "cell_type": "code",
   "execution_count": null,
   "metadata": {
    "dotnet_interactive": {
     "language": "csharp"
    }
   },
   "outputs": [],
   "source": [
    "ITransformer GenerateModel(MLContext mlContext)\n",
    "{\n",
    "    var pipeline =\n",
    "        mlContext.Transforms\n",
    "                 .LoadImages(outputColumnName: \"input\", imageFolder: _imagesFolder, inputColumnName: nameof(ImageData.Path))\n",
    "                 .Append(mlContext.Transforms.ResizeImages(outputColumnName: \"input\", imageWidth: InceptionSettings.ImageWidth, imageHeight: InceptionSettings.ImageHeight, inputColumnName: \"input\"))\n",
    "                 .Append(mlContext.Transforms.ExtractPixels(outputColumnName: \"input\", interleavePixelColors: InceptionSettings.ChannelsLast, offsetImage: InceptionSettings.Mean))\n",
    "                 .Append(mlContext.Model.LoadTensorFlowModel(_inceptionTensorFlowModel).ScoreTensorFlowModel(outputColumnNames: new[] { \"softmax2_pre_activation\" }, inputColumnNames: new[] { \"input\" }, addBatchDimensionInput: true))\n",
    "                 .Append(mlContext.Transforms.Conversion.MapValueToKey(outputColumnName: \"LabelKey\", inputColumnName: \"Label\"))\n",
    "                 .Append(mlContext.MulticlassClassification.Trainers.LbfgsMaximumEntropy(labelColumnName: \"LabelKey\", featureColumnName: \"softmax2_pre_activation\"))\n",
    "                 .Append(mlContext.Transforms.Conversion.MapKeyToValue(\"PredictedLabelValue\", \"PredictedLabel\"))\n",
    "                 .AppendCacheCheckpoint(mlContext);\n",
    "                 \n",
    "    var trainingData = mlContext.Data.LoadFromTextFile<ImageData>(path:  _trainTagsTsv, hasHeader: false);\n",
    "    var model = pipeline.Fit(trainingData);\n",
    "    var testData = mlContext.Data.LoadFromTextFile<ImageData>(path: _testTagsTsv, hasHeader: false);\n",
    "    var predictions = model.Transform(testData);\n",
    "    mlContext.Data.CreateEnumerable<ImagePrediction>(predictions, true);\n",
    "    mlContext.MulticlassClassification.Evaluate(predictions, labelColumnName: \"LabelKey\", predictedLabelColumnName: \"PredictedLabel\");\n",
    "\n",
    "    return model;\n",
    "}"
   ]
  },
  {
   "cell_type": "markdown",
   "metadata": {},
   "source": [
    "Utworzmy pliki tsv"
   ]
  },
  {
   "cell_type": "code",
   "execution_count": null,
   "metadata": {
    "dotnet_interactive": {
     "language": "csharp"
    }
   },
   "outputs": [],
   "source": [
    "CreateTsvFiles();"
   ]
  },
  {
   "cell_type": "markdown",
   "metadata": {},
   "source": [
    "Utwórzmy nasz model"
   ]
  },
  {
   "cell_type": "code",
   "execution_count": null,
   "metadata": {
    "dotnet_interactive": {
     "language": "csharp"
    }
   },
   "outputs": [],
   "source": [
    "var model = GenerateModel(mlContext);"
   ]
  },
  {
   "cell_type": "markdown",
   "metadata": {},
   "source": [
    "Sprawdźmy czy działa"
   ]
  },
  {
   "cell_type": "code",
   "execution_count": null,
   "metadata": {
    "dotnet_interactive": {
     "language": "csharp"
    }
   },
   "outputs": [
    {
     "name": "stdout",
     "output_type": "stream",
     "text": [
      "[hammer.jpg] jest [hammer] z wynikiem [0.5069281] \r\n",
      "[screwdriver.jpg] jest [screwdriver] z wynikiem [0.66097254] \r\n",
      "[wrench.jpg] jest [wrench] z wynikiem [0.68434316] \r\n"
     ]
    }
   ],
   "source": [
    "foreach (var file in Directory.GetFiles(_testFolder))\n",
    "{\n",
    "    var filename = Path.GetFileName(file);\n",
    "    File.Copy(file, $\"{_imagesFolder}\\\\{filename}\", true);\n",
    "    ClassifyImage(mlContext, model, filename);\n",
    "}\n"
   ]
  }
 ],
 "metadata": {
  "kernelspec": {
   "display_name": ".NET (C#)",
   "language": "C#",
   "name": ".net-csharp"
  },
  "language_info": {
   "name": "C#"
  }
 },
 "nbformat": 4,
 "nbformat_minor": 2
}
